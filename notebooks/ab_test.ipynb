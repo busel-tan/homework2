{
 "cells": [
  {
   "cell_type": "markdown",
   "source": [],
   "metadata": {
    "collapsed": false,
    "pycharm": {
     "name": "#%% md\n"
    }
   }
  },
  {
   "cell_type": "markdown",
   "source": [
    "# 1. Дизайн эксперимента\n",
    "\n",
    "\n",
    "Прежде чем приступить к основному тестированию, необходимо определиться с гипотезами. Это позволит убедиться в том, что интерпритация полученных результатов является правильной и мы не ошибемся.\n",
    "Посколько мы заранее не имеем представления о том, будет ли новый дизайн сайта работать лучше или хуже чем текущий вариант сайта, мы выбираем двусторонний статистический тест [Two-Tailed Test](https://towardsdatascience.com/hypothesis-testing-2-tailed-test-42f0d5ef1071)\n",
    "\n",
    "\n",
    "H0 : p  = p0\n",
    "H  : p != p0\n",
    "\n",
    "где p и p0 означают коэффициенты конверсии между новым и старым вариантами соответственно. Так же необходимо выбрать уровень доверия (confidence level). В нашем случае мы решили что это будет 95%.\n",
    "Имея уровень доверия в 95% необходимо рассчитать показатель альфа, который будет равен (1 - 0.95) для нашего теста = 0.05.\n",
    "\n",
    "-----\n",
    "Альфа — это очень важная в мире статистики величина, связанная с рядом других ключевых понятий, влияющих на сплит-тестирование и определяющая, насколько точными будут результаты тестов.\n",
    "Альфа математически взаимосвязана с такими показателями как:\n",
    "* p-значение (p-value). Это величина, используемая при тестировании статистических гипотез. Фактически это вероятность ошибки при отклонении нулевой гипотезы;\n",
    "* значимость (Significant), то есть взаимная связь между двумя группами наблюдений, позволяющая выявить различие между ними. Пожалуй, самый сложный для понимания термин, поскольку само слово может ввести в заблуждение;\n",
    "* уровень доверия к результатам (Confidence Level).\n",
    "При этом все эти три показателя, а также сам коэффициент Альфа, часто путают между собой. Чтобы внести ясность, стоит разобраться, как эти понятия соотносятся друг с другом.\n",
    "\n",
    "\n",
    "\n",
    "https://cxl.com/blog/statistical-power/\n",
    "\n",
    "----\n",
    "\n",
    "Простым языком, альфа - это тот порог, который мы устанавливаем. Интерпритация альфы чаще всего следующая: \"Если вероятность наблюдения экстремальных значений (p-значение) меньше чем альфа, то тогда мы с легкостью можем отклонить Нулевую гипотезу.\"\n",
    "Так как наш уровень альфы 0.05 (обозначающий 5% -ую вероятность), то наш доверительный интервал (1-0.05) = 0.95 или 95%\n",
    "\n",
    "Итого вне зависимости от того какой уровень конверсии мы будем наблюдать для нашего нового дизайна, мы хотим быть уверены на 95% что он статистически отличается от того уровня конверсии, который принадлежит старой версии прежде чем мы решим отклонить нулевую гипотезу H0\n",
    "\n",
    "----\n",
    "\n",
    "Для проведения A/B тестирования нам необходимо 2 группы испытемых:\n",
    "1. Контрольная (Control) группа - та группа пользователей, которым будет показываться старая версия сайта.\n",
    "2. Эксперементальная (Treatment) группа - та группа пользователей, которым будет показываться новая версия сайта.\n",
    "\n",
    "\n",
    "Почему у нас 2 группы не смотря на то, что мы уже знаем наш средний показатель конверсии?\n",
    "Причина заключается в том, что мы хотим иметь возможность контроллировать и другие переменные для нашего анализа, которые также могут повлиять на результаты (например сезонность, возрастная группа, локация и так далее).\n",
    "Имея контрольную группу мы можем напрямую сравнивать результаты двух выборок, потому что единственное изменение между групами - дизайн сайта. И все различия мы можем отнести к тому, что мы поменяли дизайн сайта.\n",
    "\n",
    "\n",
    "Нашей целевой переменной (Dependant Variable) будет выступать - уровень конверсии (conversion_rate). Целевая переменная представленна бинарно:\n",
    "0 - пользователь не купил ничего в течение своей сессии на сайте\n",
    "1 - пользователь купил продукт в течение своей сессии на сайте\n",
    "\n",
    "\n",
    "\n",
    "Сессия - термин, используемый для того, чтобы обозначить время проведенное пользователем на сайте (веб-приложении, мобильном приложении)\n"
   ],
   "metadata": {
    "collapsed": false,
    "pycharm": {
     "name": "#%% md\n"
    }
   }
  },
  {
   "cell_type": "code",
   "execution_count": 1,
   "outputs": [
    {
     "name": "stdout",
     "output_type": "stream",
     "text": [
      "Requirement already satisfied: numpy in c:\\users\\busta\\appdata\\local\\programs\\python\\python310\\lib\\site-packages (1.22.4)\n",
      "Requirement already satisfied: pandas in c:\\users\\busta\\appdata\\local\\programs\\python\\python310\\lib\\site-packages (1.4.2)\n",
      "Requirement already satisfied: scipy in c:\\users\\busta\\appdata\\roaming\\python\\python310\\site-packages (1.8.1)\n",
      "Requirement already satisfied: statsmodels in c:\\users\\busta\\appdata\\roaming\\python\\python310\\site-packages (0.13.2)\n",
      "Requirement already satisfied: matplotlib in c:\\users\\busta\\appdata\\roaming\\python\\python310\\site-packages (3.5.2)\n",
      "Requirement already satisfied: seaborn in c:\\users\\busta\\appdata\\roaming\\python\\python310\\site-packages (0.11.2)\n",
      "Requirement already satisfied: python-dateutil>=2.8.1 in c:\\users\\busta\\appdata\\local\\programs\\python\\python310\\lib\\site-packages (from pandas) (2.8.2)\n",
      "Requirement already satisfied: pytz>=2020.1 in c:\\users\\busta\\appdata\\local\\programs\\python\\python310\\lib\\site-packages (from pandas) (2022.1)\n",
      "Requirement already satisfied: patsy>=0.5.2 in c:\\users\\busta\\appdata\\roaming\\python\\python310\\site-packages (from statsmodels) (0.5.2)\n",
      "Requirement already satisfied: packaging>=21.3 in c:\\users\\busta\\appdata\\local\\programs\\python\\python310\\lib\\site-packages (from statsmodels) (21.3)\n",
      "Requirement already satisfied: fonttools>=4.22.0 in c:\\users\\busta\\appdata\\roaming\\python\\python310\\site-packages (from matplotlib) (4.33.3)\n",
      "Requirement already satisfied: cycler>=0.10 in c:\\users\\busta\\appdata\\roaming\\python\\python310\\site-packages (from matplotlib) (0.11.0)\n",
      "Requirement already satisfied: kiwisolver>=1.0.1 in c:\\users\\busta\\appdata\\roaming\\python\\python310\\site-packages (from matplotlib) (1.4.3)\n",
      "Requirement already satisfied: pillow>=6.2.0 in c:\\users\\busta\\appdata\\roaming\\python\\python310\\site-packages (from matplotlib) (9.1.1)\n",
      "Requirement already satisfied: pyparsing>=2.2.1 in c:\\users\\busta\\appdata\\local\\programs\\python\\python310\\lib\\site-packages (from matplotlib) (3.0.9)\n",
      "Requirement already satisfied: six in c:\\users\\busta\\appdata\\local\\programs\\python\\python310\\lib\\site-packages (from patsy>=0.5.2->statsmodels) (1.16.0)\n"
     ]
    },
    {
     "name": "stderr",
     "output_type": "stream",
     "text": [
      "WARNING: You are using pip version 22.0.4; however, version 22.1.2 is available.\n",
      "You should consider upgrading via the 'C:\\Users\\busta\\AppData\\Local\\Programs\\Python\\Python310\\python.exe -m pip install --upgrade pip' command.\n"
     ]
    }
   ],
   "source": [
    "# Установим модули - просто уберите комментарии и запустите ячейку с кодом, комментарий обозначется символом #\n",
    "#! pip3 install numpy pandas scipy statsmodels matplotlib seaborn"
   ],
   "metadata": {
    "collapsed": false,
    "pycharm": {
     "name": "#%%\n"
    }
   }
  },
  {
   "cell_type": "code",
   "execution_count": 20,
   "outputs": [],
   "source": [
    "# Импортируем библиотеки\n",
    "import numpy as np\n",
    "import pandas as pd\n",
    "import scipy.stats as stats\n",
    "import statsmodels.stats.api as sms\n",
    "import matplotlib as mpl\n",
    "import matplotlib.pyplot as plt\n",
    "import seaborn as sns\n",
    "from math import ceil\n",
    "import pathlib\n",
    "from pathlib import Path\n",
    "path = Path(pathlib.Path.home(), 'PycharmProjects', 'homework2',  'data', 'ab_test_ensembles.csv')\n",
    "\n",
    "# Настройки отображения графиков\n",
    "%matplotlib inline\n",
    "# Стили графиков -> обращайтесь в документацию по seaborn https://seaborn.pydata.org/generated/seaborn.set_style.html\n",
    "plt.style.use('seaborn-whitegrid')\n",
    "font = {'family' : ' DejaVu Sans',\n",
    "        'weight' : 'bold',\n",
    "        'size'   : 14}\n",
    "mpl.rc('font', **font)"
   ],
   "metadata": {
    "collapsed": false,
    "pycharm": {
     "name": "#%%\n"
    }
   }
  },
  {
   "cell_type": "markdown",
   "source": [
    "# Определение размера контрольной и испытуемой выборок.\n",
    "\n",
    "Анализ мощности выборки зависит от нескольких факторов:\n",
    "1. Мощность теста (1 - бетта) - представляет с собой вероятность найти статистические различия между групами в тесте если действительно существует разница между групами. Обычно кастомным показателем в большинстве тестов выбирают 0.8\n",
    "2. Альфа фактов (альфа) - критическое значение, которое мы установили выше 0.05\n",
    "3. Эффект/Размер эффекта/Размах Эффекта - то насколько сильна разница между двумя целевыми показателям (нам необходимо 2% между двумя групами).\n",
    "\n",
    "К нашему счастью, Python комьюнити предоставило нам модуль statsmodels который сделает всю грязную работу за нас:"
   ],
   "metadata": {
    "collapsed": false,
    "pycharm": {
     "name": "#%% md\n"
    }
   }
  },
  {
   "cell_type": "code",
   "execution_count": 21,
   "outputs": [
    {
     "name": "stdout",
     "output_type": "stream",
     "text": [
      "Для каждой группы нам необходимо не меньше  4720  наблюдений\n"
     ]
    }
   ],
   "source": [
    "# Считаем размер эффекта -> https://www.statsmodels.org/dev/generated/statsmodels.stats.proportion.proportion_effectsize.html\n",
    "effect_size = sms.proportion_effectsize(0.13, 0.15)\n",
    "# Cчитаем необходимый размер выборки -> https://www.statsmodels.org/dev/generated/statsmodels.stats.power.NormalIndPower.html?highlight=normalindpower\n",
    "# https://www.statsmodels.org/dev/generated/statsmodels.stats.power.NormalIndPower.solve_power.html#statsmodels.stats.power.NormalIndPower.solve_power\n",
    "required_n = sms.NormalIndPower().solve_power(effect_size, power=0.8, alpha=0.05, ratio=1) # Calculating sample size needed\n",
    "# Округляем до ближайшего целого\n",
    "required_n = ceil(required_n)\n",
    "print(\"Для каждой группы нам необходимо не меньше \",required_n, \" наблюдений\")"
   ],
   "metadata": {
    "collapsed": false,
    "pycharm": {
     "name": "#%%\n"
    }
   }
  },
  {
   "cell_type": "markdown",
   "source": [
    "# 2. Сбор данных и их подготовка\n",
    "\n",
    "Таким образом мы получили ответ на вопрос, сколько людей нам необходимо для проведения эксмеримента. На данном этапе вы топаете ножками к вашей Back-End команде либо Data Engineering команде и объясняете суть эксперимента, устанавливайте условия эксперимента, оцениваете его сроки (зависит от потока траффика на ваш сайт/приложение и считаете за сколько времени вы наберете необходимое количество пользователей).\n",
    "\n",
    "Мы же будем использовать симуляционный датасет, чтобы смоделировать ситуацию."
   ],
   "metadata": {
    "collapsed": false,
    "pycharm": {
     "name": "#%% md\n"
    }
   }
  },
  {
   "cell_type": "code",
   "execution_count": 25,
   "outputs": [
    {
     "data": {
      "text/plain": "                                user_id                   timestamp  \\\n0  9109b0dc-d393-497f-8d63-ba9a25dd16b4  2022-05-21 22:11:48.556739   \n1  2430c3d2-f75b-4b31-8271-51b6a76c2652  2022-05-12 08:01:45.159739   \n2  44788c4e-8dd2-4fad-b986-75e76f4adb64  2022-05-11 16:55:06.154213   \n3  4699a417-506d-41b8-a354-6af6ad576963  2022-05-08 18:28:03.143765   \n4  304b0d28-bcdf-401a-9dff-66230d3ba0bc  2022-05-21 01:52:26.210827   \n5  426f77eb-8739-43b6-999c-aecd14d9f346  2022-05-10 15:20:49.083499   \n6  aa9d93c5-a18f-444a-a522-7e7145835362  2022-05-19 03:26:46.940749   \n7  de214e30-9b8d-44cf-87b1-16917f3e1c89  2022-05-17 01:48:29.539573   \n8  070f398e-e6bf-43e7-88bb-37eff2cb9212  2022-05-04 17:58:08.979471   \n9  9cff0b7e-d42b-4508-9fbe-a4e74f7f29c5  2022-05-15 18:11:06.610965   \n\n       group             variants  converted        location age_group  \\\n0    control             standard          0  United Kingdom     18-25   \n1    control             standard          0  United Kingdom     42-49   \n2  treatment  svm_ensemble_v_1_22          0  United Kingdom     26-33   \n3  treatment  svm_ensemble_v_1_22          0  United Kingdom     42-49   \n4    control             standard          1  United Kingdom     42-49   \n5    control             standard          0  United Kingdom     42-49   \n6  treatment  svm_ensemble_v_1_22          1  United Kingdom     26-33   \n7    control             standard          0  United Kingdom     18-25   \n8  treatment  svm_ensemble_v_1_22          1  United Kingdom     18-25   \n9  treatment  svm_ensemble_v_1_22          1  United Kingdom     26-33   \n\n         user_type  \n0  registered_user  \n1  registered_user  \n2         new_user  \n3  registered_user  \n4  registered_user  \n5  registered_user  \n6  registered_user  \n7  registered_user  \n8         new_user  \n9         new_user  ",
      "text/html": "<div>\n<style scoped>\n    .dataframe tbody tr th:only-of-type {\n        vertical-align: middle;\n    }\n\n    .dataframe tbody tr th {\n        vertical-align: top;\n    }\n\n    .dataframe thead th {\n        text-align: right;\n    }\n</style>\n<table border=\"1\" class=\"dataframe\">\n  <thead>\n    <tr style=\"text-align: right;\">\n      <th></th>\n      <th>user_id</th>\n      <th>timestamp</th>\n      <th>group</th>\n      <th>variants</th>\n      <th>converted</th>\n      <th>location</th>\n      <th>age_group</th>\n      <th>user_type</th>\n    </tr>\n  </thead>\n  <tbody>\n    <tr>\n      <th>0</th>\n      <td>9109b0dc-d393-497f-8d63-ba9a25dd16b4</td>\n      <td>2022-05-21 22:11:48.556739</td>\n      <td>control</td>\n      <td>standard</td>\n      <td>0</td>\n      <td>United Kingdom</td>\n      <td>18-25</td>\n      <td>registered_user</td>\n    </tr>\n    <tr>\n      <th>1</th>\n      <td>2430c3d2-f75b-4b31-8271-51b6a76c2652</td>\n      <td>2022-05-12 08:01:45.159739</td>\n      <td>control</td>\n      <td>standard</td>\n      <td>0</td>\n      <td>United Kingdom</td>\n      <td>42-49</td>\n      <td>registered_user</td>\n    </tr>\n    <tr>\n      <th>2</th>\n      <td>44788c4e-8dd2-4fad-b986-75e76f4adb64</td>\n      <td>2022-05-11 16:55:06.154213</td>\n      <td>treatment</td>\n      <td>svm_ensemble_v_1_22</td>\n      <td>0</td>\n      <td>United Kingdom</td>\n      <td>26-33</td>\n      <td>new_user</td>\n    </tr>\n    <tr>\n      <th>3</th>\n      <td>4699a417-506d-41b8-a354-6af6ad576963</td>\n      <td>2022-05-08 18:28:03.143765</td>\n      <td>treatment</td>\n      <td>svm_ensemble_v_1_22</td>\n      <td>0</td>\n      <td>United Kingdom</td>\n      <td>42-49</td>\n      <td>registered_user</td>\n    </tr>\n    <tr>\n      <th>4</th>\n      <td>304b0d28-bcdf-401a-9dff-66230d3ba0bc</td>\n      <td>2022-05-21 01:52:26.210827</td>\n      <td>control</td>\n      <td>standard</td>\n      <td>1</td>\n      <td>United Kingdom</td>\n      <td>42-49</td>\n      <td>registered_user</td>\n    </tr>\n    <tr>\n      <th>5</th>\n      <td>426f77eb-8739-43b6-999c-aecd14d9f346</td>\n      <td>2022-05-10 15:20:49.083499</td>\n      <td>control</td>\n      <td>standard</td>\n      <td>0</td>\n      <td>United Kingdom</td>\n      <td>42-49</td>\n      <td>registered_user</td>\n    </tr>\n    <tr>\n      <th>6</th>\n      <td>aa9d93c5-a18f-444a-a522-7e7145835362</td>\n      <td>2022-05-19 03:26:46.940749</td>\n      <td>treatment</td>\n      <td>svm_ensemble_v_1_22</td>\n      <td>1</td>\n      <td>United Kingdom</td>\n      <td>26-33</td>\n      <td>registered_user</td>\n    </tr>\n    <tr>\n      <th>7</th>\n      <td>de214e30-9b8d-44cf-87b1-16917f3e1c89</td>\n      <td>2022-05-17 01:48:29.539573</td>\n      <td>control</td>\n      <td>standard</td>\n      <td>0</td>\n      <td>United Kingdom</td>\n      <td>18-25</td>\n      <td>registered_user</td>\n    </tr>\n    <tr>\n      <th>8</th>\n      <td>070f398e-e6bf-43e7-88bb-37eff2cb9212</td>\n      <td>2022-05-04 17:58:08.979471</td>\n      <td>treatment</td>\n      <td>svm_ensemble_v_1_22</td>\n      <td>1</td>\n      <td>United Kingdom</td>\n      <td>18-25</td>\n      <td>new_user</td>\n    </tr>\n    <tr>\n      <th>9</th>\n      <td>9cff0b7e-d42b-4508-9fbe-a4e74f7f29c5</td>\n      <td>2022-05-15 18:11:06.610965</td>\n      <td>treatment</td>\n      <td>svm_ensemble_v_1_22</td>\n      <td>1</td>\n      <td>United Kingdom</td>\n      <td>26-33</td>\n      <td>new_user</td>\n    </tr>\n  </tbody>\n</table>\n</div>"
     },
     "execution_count": 25,
     "metadata": {},
     "output_type": "execute_result"
    }
   ],
   "source": [
    "df = pd.read_csv(path).copy()\n",
    "df.head(10)"
   ],
   "metadata": {
    "collapsed": false,
    "pycharm": {
     "name": "#%%\n"
    }
   }
  },
  {
   "cell_type": "code",
   "execution_count": 23,
   "outputs": [
    {
     "name": "stdout",
     "output_type": "stream",
     "text": [
      "<class 'pandas.core.frame.DataFrame'>\n",
      "RangeIndex: 294478 entries, 0 to 294477\n",
      "Data columns (total 8 columns):\n",
      " #   Column     Non-Null Count   Dtype \n",
      "---  ------     --------------   ----- \n",
      " 0   user_id    294478 non-null  object\n",
      " 1   timestamp  294478 non-null  object\n",
      " 2   group      294478 non-null  object\n",
      " 3   variants   294478 non-null  object\n",
      " 4   converted  294478 non-null  int64 \n",
      " 5   location   294478 non-null  object\n",
      " 6   age_group  294478 non-null  object\n",
      " 7   user_type  294478 non-null  object\n",
      "dtypes: int64(1), object(7)\n",
      "memory usage: 18.0+ MB\n"
     ]
    }
   ],
   "source": [
    "df.info()"
   ],
   "metadata": {
    "collapsed": false,
    "pycharm": {
     "name": "#%%\n"
    }
   }
  },
  {
   "cell_type": "code",
   "execution_count": 26,
   "outputs": [
    {
     "data": {
      "text/plain": "variants   standard  svm_ensemble_v_1_22\ngroup                                   \ncontrol      145274                 1928\ntreatment      1965               145311",
      "text/html": "<div>\n<style scoped>\n    .dataframe tbody tr th:only-of-type {\n        vertical-align: middle;\n    }\n\n    .dataframe tbody tr th {\n        vertical-align: top;\n    }\n\n    .dataframe thead th {\n        text-align: right;\n    }\n</style>\n<table border=\"1\" class=\"dataframe\">\n  <thead>\n    <tr style=\"text-align: right;\">\n      <th>variants</th>\n      <th>standard</th>\n      <th>svm_ensemble_v_1_22</th>\n    </tr>\n    <tr>\n      <th>group</th>\n      <th></th>\n      <th></th>\n    </tr>\n  </thead>\n  <tbody>\n    <tr>\n      <th>control</th>\n      <td>145274</td>\n      <td>1928</td>\n    </tr>\n    <tr>\n      <th>treatment</th>\n      <td>1965</td>\n      <td>145311</td>\n    </tr>\n  </tbody>\n</table>\n</div>"
     },
     "execution_count": 26,
     "metadata": {},
     "output_type": "execute_result"
    }
   ],
   "source": [
    "# Убедимся, что контрольная группа и испытуемая видят старую страницу и новую -> https://pandas.pydata.org/docs/reference/api/pandas.crosstab.html\n",
    "pd.crosstab(df['group'], df['variants'])"
   ],
   "metadata": {
    "collapsed": false,
    "pycharm": {
     "name": "#%%\n"
    }
   }
  },
  {
   "cell_type": "markdown",
   "source": [
    "Прежде чем продолжим, давайте проверим данные на предмет дубликатов пользователей из нашей выборки."
   ],
   "metadata": {
    "collapsed": false,
    "pycharm": {
     "name": "#%% md\n"
    }
   }
  },
  {
   "cell_type": "code",
   "execution_count": 27,
   "outputs": [
    {
     "name": "stdout",
     "output_type": "stream",
     "text": [
      "У нас имеются 0 пользователей, которые не уникальны в нашей выборке.\n"
     ]
    }
   ],
   "source": [
    "sessions = df['user_id'].value_counts(ascending=False)\n",
    "duplicate_users = sessions[sessions > 1].count()\n",
    "print(f\"У нас имеются {duplicate_users} пользователей, которые не уникальны в нашей выборке.\")"
   ],
   "metadata": {
    "collapsed": false,
    "pycharm": {
     "name": "#%%\n"
    }
   }
  },
  {
   "cell_type": "code",
   "execution_count": 28,
   "outputs": [
    {
     "name": "stdout",
     "output_type": "stream",
     "text": [
      "Количество пользователей без дубликтов 294478\n"
     ]
    }
   ],
   "source": [
    "users_to_drop = sessions[sessions > 1].index\n",
    "# Проверяем вхождения, знак ~ логическо нет\n",
    "df = df[~df['user_id'].isin(users_to_drop)]\n",
    "print(f\"Количество пользователей без дубликтов {df.shape[0]}\")"
   ],
   "metadata": {
    "collapsed": false,
    "pycharm": {
     "name": "#%%\n"
    }
   }
  },
  {
   "cell_type": "markdown",
   "source": [
    "В предствленной выборке нет дубликатов."
   ],
   "metadata": {
    "collapsed": false,
    "pycharm": {
     "name": "#%% md\n"
    }
   }
  },
  {
   "cell_type": "code",
   "execution_count": 29,
   "outputs": [
    {
     "data": {
      "text/plain": "                                user_id                   timestamp    group  \\\n0  bcf8452b-3056-4d45-994f-5f286fd9869a  2022-05-18 04:44:18.590293  control   \n1  3c827a98-0868-4ce5-ac31-8195e243af37  2022-05-14 05:22:43.771772  control   \n2  71c72bb9-13d9-4755-b398-b2c5d8b1c4d6  2022-05-23 08:52:53.050325  control   \n3  654ee878-b0c5-4223-b9fb-995ca3d2eaf1  2022-05-07 23:27:09.109877  control   \n4  1e044366-7e86-4d92-bba7-3afaa6f887f8  2022-05-20 14:26:10.133979  control   \n\n   variants  converted        location age_group        user_type  \n0  standard          0  United Kingdom     42-49         new_user  \n1  standard          0  United Kingdom     50-57         new_user  \n2  standard          0  United Kingdom     34-41         new_user  \n3  standard          0  United Kingdom     26-33  registered_user  \n4  standard          0  United Kingdom     42-49         new_user  ",
      "text/html": "<div>\n<style scoped>\n    .dataframe tbody tr th:only-of-type {\n        vertical-align: middle;\n    }\n\n    .dataframe tbody tr th {\n        vertical-align: top;\n    }\n\n    .dataframe thead th {\n        text-align: right;\n    }\n</style>\n<table border=\"1\" class=\"dataframe\">\n  <thead>\n    <tr style=\"text-align: right;\">\n      <th></th>\n      <th>user_id</th>\n      <th>timestamp</th>\n      <th>group</th>\n      <th>variants</th>\n      <th>converted</th>\n      <th>location</th>\n      <th>age_group</th>\n      <th>user_type</th>\n    </tr>\n  </thead>\n  <tbody>\n    <tr>\n      <th>0</th>\n      <td>bcf8452b-3056-4d45-994f-5f286fd9869a</td>\n      <td>2022-05-18 04:44:18.590293</td>\n      <td>control</td>\n      <td>standard</td>\n      <td>0</td>\n      <td>United Kingdom</td>\n      <td>42-49</td>\n      <td>new_user</td>\n    </tr>\n    <tr>\n      <th>1</th>\n      <td>3c827a98-0868-4ce5-ac31-8195e243af37</td>\n      <td>2022-05-14 05:22:43.771772</td>\n      <td>control</td>\n      <td>standard</td>\n      <td>0</td>\n      <td>United Kingdom</td>\n      <td>50-57</td>\n      <td>new_user</td>\n    </tr>\n    <tr>\n      <th>2</th>\n      <td>71c72bb9-13d9-4755-b398-b2c5d8b1c4d6</td>\n      <td>2022-05-23 08:52:53.050325</td>\n      <td>control</td>\n      <td>standard</td>\n      <td>0</td>\n      <td>United Kingdom</td>\n      <td>34-41</td>\n      <td>new_user</td>\n    </tr>\n    <tr>\n      <th>3</th>\n      <td>654ee878-b0c5-4223-b9fb-995ca3d2eaf1</td>\n      <td>2022-05-07 23:27:09.109877</td>\n      <td>control</td>\n      <td>standard</td>\n      <td>0</td>\n      <td>United Kingdom</td>\n      <td>26-33</td>\n      <td>registered_user</td>\n    </tr>\n    <tr>\n      <th>4</th>\n      <td>1e044366-7e86-4d92-bba7-3afaa6f887f8</td>\n      <td>2022-05-20 14:26:10.133979</td>\n      <td>control</td>\n      <td>standard</td>\n      <td>0</td>\n      <td>United Kingdom</td>\n      <td>42-49</td>\n      <td>new_user</td>\n    </tr>\n  </tbody>\n</table>\n</div>"
     },
     "execution_count": 29,
     "metadata": {},
     "output_type": "execute_result"
    }
   ],
   "source": [
    "control_sample = df[df['group'] == 'control'].sample(n = required_n, random_state=42)\n",
    "treatment_sample = df[df['group'] == 'treatment'].sample(n = required_n, random_state=42)\n",
    "\n",
    "# Сформируем общую случайную выборку\n",
    "ab_df = pd.concat([control_sample, treatment_sample], axis=0)\n",
    "ab_df.reset_index(drop=True, inplace=True)\n",
    "ab_df.head()"
   ],
   "metadata": {
    "collapsed": false,
    "pycharm": {
     "name": "#%%\n"
    }
   }
  },
  {
   "cell_type": "code",
   "execution_count": 30,
   "outputs": [
    {
     "name": "stdout",
     "output_type": "stream",
     "text": [
      "<class 'pandas.core.frame.DataFrame'>\n",
      "RangeIndex: 9440 entries, 0 to 9439\n",
      "Data columns (total 8 columns):\n",
      " #   Column     Non-Null Count  Dtype \n",
      "---  ------     --------------  ----- \n",
      " 0   user_id    9440 non-null   object\n",
      " 1   timestamp  9440 non-null   object\n",
      " 2   group      9440 non-null   object\n",
      " 3   variants   9440 non-null   object\n",
      " 4   converted  9440 non-null   int64 \n",
      " 5   location   9440 non-null   object\n",
      " 6   age_group  9440 non-null   object\n",
      " 7   user_type  9440 non-null   object\n",
      "dtypes: int64(1), object(7)\n",
      "memory usage: 590.1+ KB\n"
     ]
    }
   ],
   "source": [
    "ab_df.info()"
   ],
   "metadata": {
    "collapsed": false,
    "pycharm": {
     "name": "#%%\n"
    }
   }
  },
  {
   "cell_type": "code",
   "execution_count": null,
   "outputs": [],
   "source": [],
   "metadata": {
    "collapsed": false,
    "pycharm": {
     "name": "#%%\n"
    }
   }
  },
  {
   "cell_type": "code",
   "execution_count": 15,
   "outputs": [
    {
     "data": {
      "text/plain": "control      0.5\ntreatment    0.5\nName: group, dtype: float64"
     },
     "execution_count": 15,
     "metadata": {},
     "output_type": "execute_result"
    }
   ],
   "source": [
    "ab_df.group.value_counts(normalize=True)"
   ],
   "metadata": {
    "collapsed": false,
    "pycharm": {
     "name": "#%%\n"
    }
   }
  },
  {
   "cell_type": "markdown",
   "source": [
    "# 3. Визуализация Результатов Эксперимента\n",
    "\n",
    "Первым делом, что необходимо сделать - рассчитать выборочные статистики, чтобы понять каково распределение данных и как выглядят наши выборки:"
   ],
   "metadata": {
    "collapsed": false,
    "pycharm": {
     "name": "#%% md\n"
    }
   }
  },
  {
   "cell_type": "code",
   "execution_count": 16,
   "outputs": [
    {
     "data": {
      "text/plain": "            CR mean    CR std     CR se\ngroup                                  \ncontrol    0.130791  0.337172  0.005667\ntreatment  0.118079  0.322702  0.005424",
      "text/html": "<div>\n<style scoped>\n    .dataframe tbody tr th:only-of-type {\n        vertical-align: middle;\n    }\n\n    .dataframe tbody tr th {\n        vertical-align: top;\n    }\n\n    .dataframe thead th {\n        text-align: right;\n    }\n</style>\n<table border=\"1\" class=\"dataframe\">\n  <thead>\n    <tr style=\"text-align: right;\">\n      <th></th>\n      <th>CR mean</th>\n      <th>CR std</th>\n      <th>CR se</th>\n    </tr>\n    <tr>\n      <th>group</th>\n      <th></th>\n      <th></th>\n      <th></th>\n    </tr>\n  </thead>\n  <tbody>\n    <tr>\n      <th>control</th>\n      <td>0.130791</td>\n      <td>0.337172</td>\n      <td>0.005667</td>\n    </tr>\n    <tr>\n      <th>treatment</th>\n      <td>0.118079</td>\n      <td>0.322702</td>\n      <td>0.005424</td>\n    </tr>\n  </tbody>\n</table>\n</div>"
     },
     "execution_count": 16,
     "metadata": {},
     "output_type": "execute_result"
    }
   ],
   "source": [
    "conversion_rates = ab_df.groupby('group')['converted']\n",
    "\n",
    "# Стандартное отклонение для сформированной выборки\n",
    "std_proportion = lambda x: np.std(x, ddof=0)\n",
    "# Стандартная ошибка для сформированной выборки, формулу стандартной ошибки вы знаете из лекций. Забыли - погуглите.\n",
    "se_proportion = lambda x: stats.sem(x, ddof=0)\n",
    "\n",
    "conversion_rates = conversion_rates.agg([np.mean, std_proportion, se_proportion]).rename(columns={'mean':'CR mean', '<lambda_0>':'CR std', '<lambda_1>':'CR se'})\n",
    "conversion_rates"
   ],
   "metadata": {
    "collapsed": false,
    "pycharm": {
     "name": "#%%\n"
    }
   }
  },
  {
   "cell_type": "markdown",
   "source": [
    "Как мы видим по метрикам, два эксперимента +/- по выборочным статистикам показывают себя одинаково, за исключением выборочного среднего коэффициента конверсии ~13.1% против ~11.08%"
   ],
   "metadata": {
    "collapsed": false,
    "pycharm": {
     "name": "#%% md\n"
    }
   }
  },
  {
   "cell_type": "code",
   "execution_count": 33,
   "outputs": [
    {
     "data": {
      "text/plain": "<Figure size 576x432 with 1 Axes>",
      "image/png": "[encoded data removed]"
     },
     "metadata": {},
     "output_type": "display_data"
    }
   ],
   "source": [
    "plt.figure(figsize=(8,6));\n",
    "sns.barplot(x=ab_df['group'], y=ab_df['converted'], ci=False);\n",
    "plt.ylim(0, 0.17);\n",
    "plt.title('Conversion rate by experimental samples', pad=20)\n",
    "plt.xlabel('Group', labelpad=15);\n",
    "plt.ylabel('Converted (proportion)', labelpad=15);"
   ],
   "metadata": {
    "collapsed": false,
    "pycharm": {
     "name": "#%%\n"
    }
   }
  },
  {
   "cell_type": "markdown",
   "source": [
    "Теперь главный вопрос:\n",
    "- Действительно ли разница между двумя группами испытуемых является статистически значимой? И какой же вариант нам стоит оставить?"
   ],
   "metadata": {
    "collapsed": false,
    "pycharm": {
     "name": "#%% md\n"
    }
   }
  },
  {
   "cell_type": "markdown",
   "source": [
    "# 4. Тестирование гипотезы\n",
    "\n",
    "Последним шагом в нашем анализе - остается построить инференциальный вывод (инференс, влияние). Так как у нас достаточно большая выборка, мы будем использовать нормальную аппроксимацию. Мы можем рассчитать p-статистику (Z-test):"
   ],
   "metadata": {
    "collapsed": false,
    "pycharm": {
     "name": "#%% md\n"
    }
   }
  },
  {
   "cell_type": "code",
   "execution_count": 32,
   "outputs": [
    {
     "name": "stdout",
     "output_type": "stream",
     "text": [
      "Z-statistic: 1.83\n",
      "p-value: 0.067\n",
      "CI 95% for control group: [0.123, 0.142]\n",
      "CI 95% for treatment group: [0.111, 0.129]\n"
     ]
    }
   ],
   "source": [
    "from statsmodels.stats.proportion import proportions_ztest, proportion_confint\n",
    "\n",
    "control_results = ab_df[ab_df['group'] == 'control']['converted']\n",
    "treatment_results = ab_df[ab_df['group'] == 'treatment']['converted']\n",
    "\n",
    "n_con = control_results.count()\n",
    "n_treat = treatment_results.count()\n",
    "successes = [control_results.sum(), treatment_results.sum()]\n",
    "nobs = [n_con, n_treat]\n",
    "\n",
    "z_stat, pval = proportions_ztest(successes, nobs=nobs)\n",
    "(lower_con, lower_treat), (upper_con, upper_treat) = proportion_confint(successes, nobs=nobs, alpha=0.05)\n",
    "\n",
    "print(f'Z-statistic: {z_stat:.2f}')\n",
    "print(f'p-value: {pval:.3f}')\n",
    "print(f'CI 95% for control group: [{lower_con:.3f}, {upper_con:.3f}]')\n",
    "print(f'CI 95% for treatment group: [{lower_treat:.3f}, {upper_treat:.3f}]')"
   ],
   "metadata": {
    "collapsed": false,
    "pycharm": {
     "name": "#%%\n"
    }
   }
  },
  {
   "cell_type": "markdown",
   "source": [
    "# 5. Интерпритация результатов"
   ],
   "metadata": {
    "collapsed": false,
    "pycharm": {
     "name": "#%% md\n"
    }
   }
  },
  {
   "cell_type": "markdown",
   "source": [
    "Так как наше p-значение = 0.067 близко к выбранной альфа = 0.05, то согласно статистическому выводу, мы можем отклонить нулевую гипотезу H0, что означает наш новый сайт никак статистически значимо не влияет на уровень конверсии и повышение уровня конверсии - это случайность.\n",
    "Полученный результат является статистически значимым, поскольку р-значение близок к альфа\n",
    "\n",
    "Доверительный интервал для испытуемой группы [0.11, 0.13] или 11% и 13% соответственно:\n",
    "1. Он включает наш baseline\n",
    "2. Он не достигает нашей цели 15%\n",
    "\n",
    "Доверительный интервал для контрольной группы [0.12, 0.14] или 12% и 14% соответственно:\n",
    "1. Он включает наш baseline\n",
    "2. Он не достигает нашей цели 15%\n",
    "\n",
    "Мы можем интерпритировать так: наиболее вероятно, что реальный уровень конверсии сайта с новым дизайном будет близок к baseline чем к 15%, который мы определили по нашей цели. Однако доверительный интервал для контрольной группы к ней ближе.\n",
    "Вывод. Оставить прежний дизайн сайта."
   ],
   "metadata": {
    "collapsed": false,
    "pycharm": {
     "name": "#%% md\n"
    }
   }
  },
  {
   "cell_type": "code",
   "execution_count": null,
   "outputs": [],
   "source": [],
   "metadata": {
    "collapsed": false,
    "pycharm": {
     "name": "#%%\n"
    }
   }
  }
 ],
 "metadata": {
  "kernelspec": {
   "display_name": "Python 3",
   "language": "python",
   "name": "python3"
  },
  "language_info": {
   "codemirror_mode": {
    "name": "ipython",
    "version": 2
   },
   "file_extension": ".py",
   "mimetype": "text/x-python",
   "name": "python",
   "nbconvert_exporter": "python",
   "pygments_lexer": "ipython2",
   "version": "2.7.6"
  }
 },
 "nbformat": 4,
 "nbformat_minor": 0
}